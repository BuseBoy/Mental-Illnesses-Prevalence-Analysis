# %% [markdown]
# ## Mental Health Prevalence Analysis
# 
#  Analysis of global mental health disorder prevalence rates across countries, regions, and economic groups from 1990-2019.
#  

# %%
import pandas as pd 
import matplotlib.pyplot as plt


df = pd.read_csv('1- mental-illnesses-prevalence.csv')
df = df.rename(columns={'Schizophrenia disorders (share of population) - Sex: Both - Age: Age-standardized': 'Schizophrenia', 
                          'Depressive disorders (share of population) - Sex: Both - Age: Age-standardized': 'Depressive',
                         'Anxiety disorders (share of population) - Sex: Both - Age: Age-standardized':'Anxiety',
                         'Bipolar disorders (share of population) - Sex: Both - Age: Age-standardized':'Bipolar',
                         'Eating disorders (share of population) - Sex: Both - Age: Age-standardized':'Eating Disorder'})

mental_health_cols = ['Schizophrenia', 'Depressive', 'Anxiety', 'Bipolar', 'Eating Disorder']


df.head(10).round(3)


# %% [markdown]
# # Data Exploration and Overview
# 

# %%
df.shape

# %%
df.info()

# %% [markdown]
# # Data Cleaning and Preproccesing 
# 
# avoided chained indexing (df[...][...]) due to potential unreliable behavior used .loc for safer and more predictable row/column selection.

# %%
null_entities = df.loc[df['Code'].isnull(),"Entity"].unique()
print(null_entities)

# %% [markdown]
# Avoided inplace=True since it is deprecated in pandas.
# Assigned the result to a variable instead, as recommended.

# %%
# Remove duplicates and reset index

df.drop_duplicates()
df.reset_index(drop= True) 
df.shape

# %% [markdown]
# # Geographical and Economic Grouping
# 

# %%

# Create mapping dictionaries for regional and economic classifications
# This allows us to separate analysis by country vs regional aggregates

region_codes = {
    "Africa (IHME GBD)": "AFR",
    "America (IHME GBD)": "AMR",
    "Asia (IHME GBD)": "ASI",
    "Europe (IHME GBD)": "EUR",
    "European Union (27)": "EU27",
}

economic_codes = {
    "High-income": "HIC",
    "Low-income": "LIC",
    "Lower-middle-income": "LMIC",
    "Upper-middle-income": "UMIC"
}

# Fill missing codes using our mapping dictionaries


df['Code'] = df['Code'].fillna(df['Entity'].map({**region_codes, **economic_codes}))

# Create separate dataframes for different analysis levels

df_regions = df.loc[df['Entity'].isin(region_codes)]
df_economy = df.loc[df['Entity'].isin(economic_codes)]

df_countries = df.loc[~df['Entity'].isin(region_codes) & 
                     ~df['Entity'].isin(economic_codes) & 
                     (df['Entity'] != 'World')]

df_world = df.loc[df["Entity"] == "World"]



# %%
print("Dataset Summary:")
print("Countries:", len(df_countries)//30, "| Regions:", len(df_regions)//30, "| Economic Groups:", len(df_economy)//30, "| World:", len(df_world)//30)
print("Total Records:", len(df_regions) + len(df_countries) + len(df_economy) + len(df_world))


# %% [markdown]
# ## Outlier Handling
# * Anxiety and Eating Disorder show the highest number of extreme values, consistent with their higher variability across countries and years.
# * Schizophrenia outliers are scattered, suggesting occasional spikes rather than systematic errors.
# Depressive and Bipolar have fewer outliers, indicating more stable reporting.
# * Some outliers may stem from data entry errors or aggregation inconsistencies, but the majority reflect actual differences in prevalence.
# * Disorders with repeated extreme values across countries or years warrant closer inspection, while those with only a few scattered outliers are less suspicious.
# 
# Conclusion: Clipping these outliers ensures trends and correlations are not skewed, while preserving meaningful patterns in mental health prevalence.

# %%

Q1 = df[mental_health_cols].quantile(0.25)
Q3 = df[mental_health_cols].quantile(0.75)
IQR = Q3 - Q1
lower = Q1 - 1.5 * IQR
upper = Q3 + 1.5 * IQR


# Apply outlier clipping to preserve data integrity
df[mental_health_cols] = df[mental_health_cols].clip(lower=lower, upper=upper, axis=1)



# %% [markdown]
# # Descriptive Statistics - Country Level Analysis
# 
# This provides a stable baseline for comparing countries by removing yearly fluctuations
# 

# %%

# Country 
countries_stats = df_countries.groupby('Entity')[mental_health_cols].mean()

print("Years:", df_countries["Year"].min(), "-", df_countries["Year"].max())
countries_stats.describe().round(3)


# %% [markdown]
# # Global Trends Analysis
# Depression and anxiety are more common globally, while schizophrenia, bipolar, and eating disorders are rarer and stable.

# %%

global_stats = df_world[mental_health_cols].agg(["mean","min","max"]).T

global_stats["Range"] = global_stats["min"].round(3).astype(str) + " - " + global_stats["max"].round(3).astype(str)

final_stats = global_stats[["mean", "Range"]].rename(columns={"mean": "Global Average"}).round(2)

final_stats



# %% [markdown]
# 
# # Country Rankings
# What are the highest schizophrenia rates in 2019?
# 

# %%
max_schizophrenia = df_countries.loc[df_countries["Year"] == 2019, ["Entity","Year","Schizophrenia"]].sort_values(by= "Schizophrenia", ascending = False)
max_schizophrenia.head(10)


# %% [markdown]
# # What are the lowest schizophrenia rates in 2019?

# %%
min_schizophrenia = df_countries.loc[df_countries["Year"] == 2019, ["Entity","Year","Schizophrenia"]].sort_values(by= "Schizophrenia", ascending = True)
min_schizophrenia.head(10)


# %% [markdown]
# # What are the highest depression rates in 2019?
# 

# %%

max_depressive = df_countries.loc[df_countries["Year"] == 2019, ["Entity","Year","Depressive"]].sort_values(by= "Depressive", ascending= False)
max_depressive.head(10)



# %% [markdown]
# # What are the lowest depression rates in 2019?
# 

# %%
min_depressive = df_countries.loc[df_countries["Year"] == 2019, ["Entity","Year","Depressive"]].sort_values(by= "Depressive", ascending= True)

min_depressive.head(10)


# %% [markdown]
# # Yearly Averages

# %%
# This reveals whether mental health issues are increasing, decreasing, or stable globally

yearly_avg = df_countries.groupby('Year')[mental_health_cols].mean()

yearly_avg_pd = pd.DataFrame(yearly_avg)

yearly_avg_pd


# %% [markdown]
# # Correlation Analysis
# 
# Positive clustering: Schizophrenia, Anxiety, Eating Disorder
# 
# Negative direction: Depressive moves in the opposite way of this trio
# 
# Bipolar: moderately connected to both sides

# %%
yearly_avg_pd.corr()


# %%

yearly_diff = yearly_avg.diff() 

plt.figure(figsize=(11,4))

for col in yearly_diff.columns:
    plt.plot(yearly_diff.index, yearly_diff[col], marker='.', label=col)

plt.axhline(0, color='black')  
plt.title("Yearly Changes")
plt.xlabel('Year')
plt.ylabel("Change Amount")
plt.legend()
plt.show()


# %% [markdown]
# # How many years in total were the disorders on the rise?

# %%
print("How many years in total were the disorders on the rise?:")
for disorder in mental_health_cols:
    print(f"In 30 years, {disorder}: increase found in {(yearly_diff[disorder] > 0).sum()} years")


# %%
def plot_avg_mental_health(df, group_col, title):
   
    avg = df.groupby(group_col)[mental_health_cols].mean()
    avg.plot(kind="bar", figsize=(10,4))
    plt.title(f"Average Mental Health Rates by {title}")
    plt.ylabel("Share of Population")
    plt.xticks(rotation=0)
    plt.show()

# %%
plot_avg_mental_health(df_regions, "Entity", "Region")

# %%
plot_avg_mental_health(df_economy, "Entity", "Economic Group")


